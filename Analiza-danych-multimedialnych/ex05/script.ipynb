{
 "cells": [
  {
   "cell_type": "code",
   "execution_count": 2,
   "id": "9067a956",
   "metadata": {},
   "outputs": [],
   "source": [
    "import cv2\n",
    "import numpy as np\n",
    "import matplotlib.pyplot as plt\n",
    "from PIL import Image\n",
    "import os\n",
    "import pandas as pd"
   ]
  },
  {
   "cell_type": "code",
   "execution_count": 3,
   "id": "9fdf9fce",
   "metadata": {},
   "outputs": [],
   "source": [
    "original=cv2.imread('img.bmp', cv2.IMREAD_COLOR_RGB)"
   ]
  },
  {
   "cell_type": "code",
   "execution_count": 4,
   "id": "f489e578",
   "metadata": {},
   "outputs": [],
   "source": [
    "original_path='img.bmp'"
   ]
  },
  {
   "cell_type": "code",
   "execution_count": 5,
   "id": "470c519e",
   "metadata": {},
   "outputs": [],
   "source": [
    "imgs_jpg=[f'img_jpg_{q}.jpg' for q in ['q5', 'q20', 'q50', 'q70', 'q90']]\n",
    "imgs_jp2=[f'img_jp2_{q}.jp2' for q in ['q5', 'q20', 'q50', 'q70', 'q90']]"
   ]
  },
  {
   "cell_type": "code",
   "execution_count": 6,
   "id": "284ed020",
   "metadata": {},
   "outputs": [],
   "source": [
    "def get_size(image):\n",
    "    height, width=image.shape[:]\n",
    "    return height, width"
   ]
  },
  {
   "cell_type": "code",
   "execution_count": 7,
   "id": "ab90803e",
   "metadata": {},
   "outputs": [],
   "source": [
    "def get_images(images):\n",
    "    image_list=[]\n",
    "    for img in images:\n",
    "        image=cv2.imread(img, cv2.IMREAD_COLOR_RGB)\n",
    "        image_list.append(image)\n",
    "    return image_list"
   ]
  },
  {
   "cell_type": "code",
   "execution_count": 8,
   "id": "f25d427a",
   "metadata": {},
   "outputs": [],
   "source": [
    "images_jpg=get_images(imgs_jpg)\n",
    "images_jp2=get_images(imgs_jp2)"
   ]
  },
  {
   "cell_type": "code",
   "execution_count": 9,
   "id": "d3e8fe38",
   "metadata": {},
   "outputs": [],
   "source": [
    "def compression_ratio(original_image, images):\n",
    "    original_size=os.path.getsize(original_image)\n",
    "    compression=[]\n",
    "    for img in images:\n",
    "        compressed_size=os.path.getsize(img)\n",
    "        compression.append(compressed_size/original_size)\n",
    "    return compression"
   ]
  },
  {
   "cell_type": "code",
   "execution_count": 10,
   "id": "f6e7992d",
   "metadata": {},
   "outputs": [],
   "source": [
    "compression_jpg=compression_ratio(original_path, imgs_jpg)\n",
    "compression_jp2=compression_ratio(original_path, imgs_jp2)\n"
   ]
  },
  {
   "cell_type": "code",
   "execution_count": 11,
   "id": "800aa569",
   "metadata": {},
   "outputs": [
    {
     "data": {
      "text/plain": [
       "'\\ndef get_nae(original_image, images):\\n    denominator = np.sum(np.abs(original_image.astype(np.float32)))\\n    nae_list=[]\\n    for img in images:\\n        numerator = np.sum(np.abs(original_image.astype(np.float32) - img.astype(np.float32)))\\n        nae=numerator/denominator\\n        nae_list.append(nae)\\n    return nae_list\\n'"
      ]
     },
     "execution_count": 11,
     "metadata": {},
     "output_type": "execute_result"
    }
   ],
   "source": [
    "'''\n",
    "def get_nae(original_image, images):\n",
    "    denominator = np.sum(np.abs(original_image.astype(np.float32)))\n",
    "    nae_list=[]\n",
    "    for img in images:\n",
    "        numerator = np.sum(np.abs(original_image.astype(np.float32) - img.astype(np.float32)))\n",
    "        nae=numerator/denominator\n",
    "        nae_list.append(nae)\n",
    "    return nae_list\n",
    "'''"
   ]
  },
  {
   "cell_type": "code",
   "execution_count": 12,
   "id": "01d9e1fc",
   "metadata": {},
   "outputs": [],
   "source": [
    "def get_jk(original_image, images):\n",
    "    height, width = original_image.shape[:2]\n",
    "    jk_list = []\n",
    "    for img in images:\n",
    "        diff = np.sqrt(\n",
    "            (original_image[:,:,0].astype(np.float32) - img[:,:,0].astype(np.float32))**2 +\n",
    "            (original_image[:,:,1].astype(np.float32) - img[:,:,1].astype(np.float32))**2 +\n",
    "            (original_image[:,:,2].astype(np.float32) - img[:,:,2].astype(np.float32))**2\n",
    "        )\n",
    "        jk = np.sum(diff) / (height * width)\n",
    "        jk_list.append(jk)\n",
    "    return jk_list"
   ]
  },
  {
   "cell_type": "code",
   "execution_count": 13,
   "id": "71d76ef1",
   "metadata": {},
   "outputs": [],
   "source": [
    "nae_jpg=get_jk(original, images_jpg)\n",
    "nae_jp2=get_jk(original, images_jp2)"
   ]
  },
  {
   "cell_type": "code",
   "execution_count": 14,
   "id": "17d7ee89",
   "metadata": {},
   "outputs": [],
   "source": [
    "# [0.015, 0.039, 0.079, 0.11, 0.16] [38, 21, 12, 7, 4] [22, 11, 6, 3, 2]\n",
    "data={\n",
    "    \"Compression ratio - jpg\": compression_jpg,\n",
    "    \"Compression ratio - jp2\": compression_jp2,\n",
    "    \"NAE - jpg\": nae_jpg,\n",
    "    \"NAE - jp2\": nae_jp2\n",
    "}\n",
    "df=pd.DataFrame(data)"
   ]
  },
  {
   "cell_type": "code",
   "execution_count": 15,
   "id": "9e02c722",
   "metadata": {},
   "outputs": [
    {
     "data": {
      "text/html": [
       "<div>\n",
       "<style scoped>\n",
       "    .dataframe tbody tr th:only-of-type {\n",
       "        vertical-align: middle;\n",
       "    }\n",
       "\n",
       "    .dataframe tbody tr th {\n",
       "        vertical-align: top;\n",
       "    }\n",
       "\n",
       "    .dataframe thead th {\n",
       "        text-align: right;\n",
       "    }\n",
       "</style>\n",
       "<table border=\"1\" class=\"dataframe\">\n",
       "  <thead>\n",
       "    <tr style=\"text-align: right;\">\n",
       "      <th></th>\n",
       "      <th>Compression ratio - jpg</th>\n",
       "      <th>Compression ratio - jp2</th>\n",
       "      <th>NAE - jpg</th>\n",
       "      <th>NAE - jp2</th>\n",
       "    </tr>\n",
       "  </thead>\n",
       "  <tbody>\n",
       "    <tr>\n",
       "      <th>0</th>\n",
       "      <td>0.010980</td>\n",
       "      <td>0.049957</td>\n",
       "      <td>37.930885</td>\n",
       "      <td>21.201027</td>\n",
       "    </tr>\n",
       "    <tr>\n",
       "      <th>1</th>\n",
       "      <td>0.031157</td>\n",
       "      <td>0.199788</td>\n",
       "      <td>27.018974</td>\n",
       "      <td>7.894615</td>\n",
       "    </tr>\n",
       "    <tr>\n",
       "      <th>2</th>\n",
       "      <td>0.058472</td>\n",
       "      <td>0.499508</td>\n",
       "      <td>22.408016</td>\n",
       "      <td>1.911115</td>\n",
       "    </tr>\n",
       "    <tr>\n",
       "      <th>3</th>\n",
       "      <td>0.081605</td>\n",
       "      <td>0.685954</td>\n",
       "      <td>19.954996</td>\n",
       "      <td>0.000000</td>\n",
       "    </tr>\n",
       "    <tr>\n",
       "      <th>4</th>\n",
       "      <td>0.156059</td>\n",
       "      <td>0.685954</td>\n",
       "      <td>15.609573</td>\n",
       "      <td>0.000000</td>\n",
       "    </tr>\n",
       "  </tbody>\n",
       "</table>\n",
       "</div>"
      ],
      "text/plain": [
       "   Compression ratio - jpg  Compression ratio - jp2  NAE - jpg  NAE - jp2\n",
       "0                 0.010980                 0.049957  37.930885  21.201027\n",
       "1                 0.031157                 0.199788  27.018974   7.894615\n",
       "2                 0.058472                 0.499508  22.408016   1.911115\n",
       "3                 0.081605                 0.685954  19.954996   0.000000\n",
       "4                 0.156059                 0.685954  15.609573   0.000000"
      ]
     },
     "execution_count": 15,
     "metadata": {},
     "output_type": "execute_result"
    }
   ],
   "source": [
    "df"
   ]
  },
  {
   "cell_type": "code",
   "execution_count": 16,
   "id": "6b3d8f6e",
   "metadata": {},
   "outputs": [
    {
     "data": {
      "image/png": "[encoded data removed]",
      "text/plain": [
       "<Figure size 640x480 with 1 Axes>"
      ]
     },
     "metadata": {},
     "output_type": "display_data"
    }
   ],
   "source": [
    "plt.plot(df[\"Compression ratio - jpg\"], df[\"NAE - jpg\"], marker='o', label='JPEG', color='red')\n",
    "plt.plot(df[\"Compression ratio - jp2\"], df[\"NAE - jp2\"], marker='o', label='JPEG2000', color='blue')\n",
    "plt.xlabel('Stopień kompresji')\n",
    "plt.ylabel('Jakość kompresji (znorm. błąd bezwględny) [%]')\n",
    "plt.title('Stopień kompresji vs Jakość kompresji')\n",
    "plt.legend()\n",
    "plt.grid(True)\n",
    "plt.show()"
   ]
  }
 ],
 "metadata": {
  "kernelspec": {
   "display_name": "venv",
   "language": "python",
   "name": "python3"
  },
  "language_info": {
   "codemirror_mode": {
    "name": "ipython",
    "version": 3
   },
   "file_extension": ".py",
   "mimetype": "text/x-python",
   "name": "python",
   "nbconvert_exporter": "python",
   "pygments_lexer": "ipython3",
   "version": "3.12.0"
  }
 },
 "nbformat": 4,
 "nbformat_minor": 5
}
