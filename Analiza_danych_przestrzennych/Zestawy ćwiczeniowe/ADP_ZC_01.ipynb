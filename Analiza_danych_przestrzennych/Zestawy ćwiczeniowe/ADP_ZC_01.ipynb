{
 "cells": [
  {
   "cell_type": "markdown",
   "id": "5782cd2b-89da-45d2-98fd-6f57464ac652",
   "metadata": {
    "tags": []
   },
   "source": [
    "# Zestaw ćwiczeniowy 1 - podstawy języka programowania Python\n",
    "\n",
    "Uwaga! Zestaw ma charakter wyłącznie ćwiczeniowy i nie zalicza się do zestawów zadań, na podstawie których odbywa się zaliczenie przedmiotu."
   ]
  },
  {
   "cell_type": "markdown",
   "id": "78676f68-ac94-4ddd-b282-797432ccefc7",
   "metadata": {
    "tags": []
   },
   "source": [
    "## Zadanie 1"
   ]
  },
  {
   "cell_type": "markdown",
   "id": "a6c7f5ab-e0a6-4200-9b67-58cf9d54e1f4",
   "metadata": {},
   "source": [
    "a) Zdefiniuj zmienną `r` o wartości 5."
   ]
  },
  {
   "cell_type": "code",
   "execution_count": 4,
   "id": "86552b52-2c51-4bcb-9568-76e223ae4c52",
   "metadata": {},
   "outputs": [],
   "source": [
    "r = 5"
   ]
  },
  {
   "cell_type": "markdown",
   "id": "5085755f-e080-4b33-9ef1-76117acc0e32",
   "metadata": {},
   "source": [
    "b) Zdefiniuj zmienną `area`, której wartość jest równa polu koła o promieniu zdefiniowanym przez wartość zmiennej `r`. Przyjmij, że wartość $\\Pi$ wynosi 3.14."
   ]
  },
  {
   "cell_type": "code",
   "execution_count": 2,
   "id": "0daf0240-e39f-41b8-a592-74b738ec65ba",
   "metadata": {},
   "outputs": [
    {
     "data": {
      "text/plain": [
       "78.5"
      ]
     },
     "execution_count": 2,
     "metadata": {},
     "output_type": "execute_result"
    }
   ],
   "source": [
    "area = (r**2)*3.14\n",
    "area"
   ]
  },
  {
   "cell_type": "markdown",
   "id": "b73db741-36ad-4295-b7b4-cf2a6041445e",
   "metadata": {},
   "source": [
    "c) Korzystając z funkcji `print()` i `format()` wyświetl odpowiedź \"Pole koła o promieniu X cm wynosi Y cm^2.\", gdzie X i Y to odpowiednio wartości zmiennych `r` i `area` podane z dokładnością do drugiego miejsca po przecinku."
   ]
  },
  {
   "cell_type": "code",
   "execution_count": 3,
   "id": "f672ca7f-d189-482b-945b-b24e91feef50",
   "metadata": {},
   "outputs": [
    {
     "name": "stdout",
     "output_type": "stream",
     "text": [
      "Pole koła o promieniu 5.00 cm wynosi 78.50 cm^2.\n"
     ]
    }
   ],
   "source": [
    "print('Pole koła o promieniu {:.2f} cm wynosi {:.2f} cm^2.'.format(r, area))"
   ]
  },
  {
   "cell_type": "markdown",
   "id": "22f7c454-1568-4df7-813f-251ba0a82873",
   "metadata": {},
   "source": [
    "## Zadanie 2"
   ]
  },
  {
   "cell_type": "markdown",
   "id": "9367c807-7b98-4bcc-b103-b1e4bd508354",
   "metadata": {},
   "source": [
    "Zmienna `lorem_ipsum` zawiera przykładowy fragment tekstu."
   ]
  },
  {
   "cell_type": "code",
   "execution_count": 4,
   "id": "37d079ee-b32d-473a-b41b-e591fb9b2e23",
   "metadata": {},
   "outputs": [],
   "source": [
    "lorem_ipsum = \"Lorem ipsum dolor sit amet, consectetur adipiscing elit. Suspendisse euismod augue in pretium faucibus. Curabitur ultrices luctus dui, nec malesuada urna viverra vitae.\""
   ]
  },
  {
   "cell_type": "markdown",
   "id": "04e13d17-7a0f-4c08-af18-d1b0f7807b59",
   "metadata": {},
   "source": [
    "a) Korzystając z funkcji `split()` zdefiniuj zmienną `words`, której wartość odpowiada liczbie słów znajdujących się w obrębie fragmentu tekstu. Wyświetl odpowiedź korzystając z funkcji `print()` i `format()`."
   ]
  },
  {
   "cell_type": "code",
   "execution_count": 5,
   "id": "a59c8744-a12a-4790-ad17-eba026739cf8",
   "metadata": {},
   "outputs": [
    {
     "name": "stdout",
     "output_type": "stream",
     "text": [
      "W tekście lorem ipsum znajdują się 23 słowa\n"
     ]
    }
   ],
   "source": [
    "words = 0\n",
    "for i in lorem_ipsum.split():\n",
    "    words = words+1\n",
    "print(\"W tekście lorem ipsum znajdują się {} słowa\".format(words))"
   ]
  },
  {
   "cell_type": "markdown",
   "id": "f6117001-ff7e-451f-bd59-a766db4216d1",
   "metadata": {},
   "source": [
    "b) Korzystając z funkcji `count()`zdefiniuj zmienną `sentences`, której wartość odpowiada liczbie zdań znajdujących się w obrębie fragmentu tekstu. Wyświetl odpowiedź korzystając z funkcji `print()` i `format()`."
   ]
  },
  {
   "cell_type": "code",
   "execution_count": 6,
   "id": "87209876-70d8-44fb-adb9-b69b826f4048",
   "metadata": {
    "tags": []
   },
   "outputs": [
    {
     "name": "stdout",
     "output_type": "stream",
     "text": [
      "Liczba zdań w lorem ipsum wynosi 3.\n"
     ]
    }
   ],
   "source": [
    "sentences = lorem_ipsum.count('.')\n",
    "print(\"Liczba zdań w lorem ipsum wynosi {}.\".format(sentences))"
   ]
  },
  {
   "cell_type": "markdown",
   "id": "6a4427dc-9bff-451e-a73d-bfbfccac408e",
   "metadata": {
    "tags": []
   },
   "source": [
    "## Zadanie 3"
   ]
  },
  {
   "cell_type": "markdown",
   "id": "369ec398-9d17-479b-a840-918e6d0fc916",
   "metadata": {},
   "source": [
    "a) Zdefiniuj zmienną `ls` jako listę składającą się z następujących elementów: 1, 7.8, d, 9, e, 2, 3.162, 7, 4.55, f, 0, 2.5."
   ]
  },
  {
   "cell_type": "code",
   "execution_count": 6,
   "id": "d848190f-123b-4ea3-8f57-573342195392",
   "metadata": {},
   "outputs": [
    {
     "data": {
      "text/plain": [
       "list"
      ]
     },
     "execution_count": 6,
     "metadata": {},
     "output_type": "execute_result"
    }
   ],
   "source": [
    "ls = (1, 7.8, 'd', 9, 'e', 2, 3.162, 7, 4.55, 'f', 0, 2.5)\n",
    "ls = list(ls)"
   ]
  },
  {
   "cell_type": "markdown",
   "id": "a4b9ec92-4eea-40b7-b65d-eb58b7004123",
   "metadata": {},
   "source": [
    "b) Korzystając z pętli `for` i `if` oblicz sumę wszystkich liczb wchodzących w skład listy `ls`."
   ]
  },
  {
   "cell_type": "code",
   "execution_count": 8,
   "id": "6f2249f8-b75a-4cd4-9963-84e87ab32122",
   "metadata": {},
   "outputs": [
    {
     "data": {
      "text/plain": [
       "37.012"
      ]
     },
     "execution_count": 8,
     "metadata": {},
     "output_type": "execute_result"
    }
   ],
   "source": [
    "suma = 0\n",
    "for i in ls:\n",
    "    if type(i) == int or type(i) == float:\n",
    "        suma = suma + i\n",
    "suma"
   ]
  },
  {
   "cell_type": "markdown",
   "id": "4551f407-b776-46d5-9cf7-2766e6e6d43b",
   "metadata": {},
   "source": [
    "c) Korzystając z funkcji `print()` i `format()` wyświetl odpowiedź \"Suma liczb wchodzących w skład listy wynosi X\", gdzie X to obliczona wartość sumy liczb podana z dokładnością do trzeciego miejsca po przecinku."
   ]
  },
  {
   "cell_type": "code",
   "execution_count": 9,
   "id": "01be756d-4906-4a04-99e8-87eda0a9cb85",
   "metadata": {},
   "outputs": [
    {
     "name": "stdout",
     "output_type": "stream",
     "text": [
      "Suma liczb wchodzących w skład listy wynosi 37.012.\n"
     ]
    }
   ],
   "source": [
    "print('Suma liczb wchodzących w skład listy wynosi {}.'.format(suma))"
   ]
  },
  {
   "cell_type": "markdown",
   "id": "32b758a9-ad21-4248-ac82-693700c49b1a",
   "metadata": {},
   "source": [
    "## Zadanie 4"
   ]
  },
  {
   "cell_type": "markdown",
   "id": "09d9faa1-f1c2-47f1-89bd-f5ecba039a08",
   "metadata": {},
   "source": [
    "a) Zdefiniuj zmienną `shopping_list` jako słownik zawierający w sobie następującą listę zakupów: \\\n",
    "Jabłko: 5 \\\n",
    "Ogórek: 2 \\\n",
    "Cebula: 3 \\\n",
    "Sałata: 1 \\\n",
    "Gruszka: 7 \\\n",
    "Ziemniak: 15 \\\n",
    "Arbuz: 1"
   ]
  },
  {
   "cell_type": "code",
   "execution_count": 8,
   "id": "ded6f85d-f471-466c-9bd7-2854f0a85cf0",
   "metadata": {},
   "outputs": [
    {
     "data": {
      "text/plain": [
       "{'Jabłko': 5,\n",
       " 'Ogórek': 2,\n",
       " 'Cebula': 3,\n",
       " 'Sałata': 1,\n",
       " 'Gruszka': 7,\n",
       " 'Ziemniak': 15,\n",
       " 'Arbuz': 1}"
      ]
     },
     "execution_count": 8,
     "metadata": {},
     "output_type": "execute_result"
    }
   ],
   "source": [
    "shopping_list = {'Jabłko' : 5, 'Ogórek' : 2, 'Cebula' : 3, 'Sałata' : 1, 'Gruszka' : 7, 'Ziemniak' : 15, 'Arbuz' : 1}\n",
    "shopping_list"
   ]
  },
  {
   "cell_type": "markdown",
   "id": "d479e72a-57e9-4b41-80d5-468ce6b28820",
   "metadata": {},
   "source": [
    "b) Korzystając z funkcji `print()`  i `format()` oraz z pętli `for` wyświetl listę zakupów tak, aby zaczynała się ona od nagłówka \"Lista zakupów\", pod którym wyświetlone będą po jednym w linii poszczególne elementy listy zakupów."
   ]
  },
  {
   "cell_type": "code",
   "execution_count": 11,
   "id": "55ed0038-bcc3-473a-b201-b2b561eb15fa",
   "metadata": {},
   "outputs": [
    {
     "name": "stdout",
     "output_type": "stream",
     "text": [
      "lista zakupów:\n",
      "\n",
      "Jabłko, 5\n",
      "Ogórek, 2\n",
      "Cebula, 3\n",
      "Sałata, 1\n",
      "Gruszka, 7\n",
      "Ziemniak, 15\n",
      "Arbuz, 1\n"
     ]
    }
   ],
   "source": [
    "#print(len(shopping_list))\n",
    "print(\"lista zakupów:\\n\")\n",
    "for i in shopping_list:\n",
    "    print('{}, {}'.format(i, shopping_list[i]))"
   ]
  },
  {
   "cell_type": "markdown",
   "id": "608e21ea-c868-4dc8-a724-5156daa643de",
   "metadata": {},
   "source": [
    "c) Korzystając z pętli `for` policz ile sztuk owoców znajduje się na liście zakupów. Wyświetl odpowiedź korzystając z funkcji `print()` i `format()`."
   ]
  },
  {
   "cell_type": "code",
   "execution_count": 12,
   "id": "07a67fce-5e42-40e5-99f1-09d013e2acf6",
   "metadata": {},
   "outputs": [
    {
     "name": "stdout",
     "output_type": "stream",
     "text": [
      "Na liście znajduje się 34 owoców.\n"
     ]
    }
   ],
   "source": [
    "suma = 0\n",
    "for i in shopping_list:\n",
    "    suma = suma + shopping_list[i]\n",
    "print(\"Na liście znajduje się {} owoców.\".format(suma))"
   ]
  },
  {
   "cell_type": "markdown",
   "id": "393090e9-43a2-4eb0-a635-06e1516de9ac",
   "metadata": {
    "tags": []
   },
   "source": [
    "## Zadanie 5"
   ]
  },
  {
   "cell_type": "markdown",
   "id": "646377e1-7a02-4d72-8a21-f4c68b646d59",
   "metadata": {},
   "source": [
    "a) Napisz funkcję `compute_pi_leibniz()`, która aproksymuje wartość liczby $\\pi$ za pomocą schematu Leibnitza danego wzorem:\n",
    "\n",
    "$$ \\pi = 8 \\sum_{k=0}^\\infty \\frac{1}{(4k+1)(4k+3)} $$\n",
    "\n",
    "Funkcja powinna przyjmować pojedynczy argument - `n`, który określa liczbę członów sumy wykorzystanych do aproksymacji."
   ]
  },
  {
   "cell_type": "code",
   "execution_count": 13,
   "id": "45dce819-8aa8-42a8-b3d8-92232bbab23a",
   "metadata": {},
   "outputs": [],
   "source": [
    "def compute_pi_leibniz(n):\n",
    "    suma = 0\n",
    "    for k in range(n):\n",
    "        suma = suma + 1/((4*k+1)*(4*k+3))\n",
    "    suma = suma*8\n",
    "    return suma"
   ]
  },
  {
   "cell_type": "markdown",
   "id": "3a8fa4c8-7c9d-4616-924c-e660a4af05a2",
   "metadata": {},
   "source": [
    "b) Napisz funkcję `compute_pi_euler()`, która aproksymuje wartość liczby $\\pi$ za pomocą schematu Eulera danego wzorem:\n",
    "\n",
    "$$ \\pi = \\sqrt{ 6 \\sum_{k=1}^\\infty \\frac{1}{k^2}} $$\n",
    "\n",
    "Funkcja powinna przyjmować pojedynczy argument - `n`, który określa liczbę członów sumy wykorzystanych do aproksymacji."
   ]
  },
  {
   "cell_type": "code",
   "execution_count": 14,
   "id": "7e2355c7-2983-4f43-90d9-d9a70758705a",
   "metadata": {},
   "outputs": [],
   "source": [
    "import math as m\n",
    "def compute_pi_euler(n):\n",
    "    suma = 0\n",
    "    for k in range(1, n+1):\n",
    "        suma = suma + 1/(k*k)\n",
    "    suma = m.sqrt(6*suma)\n",
    "    return suma"
   ]
  },
  {
   "cell_type": "markdown",
   "id": "fc82025a-0e06-47a3-a458-4df8bff542aa",
   "metadata": {},
   "source": [
    "c) Napisz funkcję `compute_pi()`, która w zależności od przyjętej wartości argumentu `schema` aproksymuje wartość liczby $\\pi$ za pomocą jednej z funkcji przygotowanych w poprzednich podpunktach. Funkcja powinna przyjmować dwa argumenty - `n`, który określa wartość liczbę członów sumy wykorzystanych do aproksymacji oraz `schema`, który przyjmuje wartości \"Leibnitz\" lub \"Euler\" i oktreśla, który schemat aproksymacji ma być wykorzystany w obliczeniach. "
   ]
  },
  {
   "cell_type": "code",
   "execution_count": 15,
   "id": "856fd264-63ab-4841-8b04-b86efae5b710",
   "metadata": {},
   "outputs": [],
   "source": [
    "def compute_pi(n, schema):\n",
    "    if schema == 'Leibnitz':\n",
    "        return compute_pi_leibniz(n)\n",
    "    elif schema == 'Euler':\n",
    "        return compute_pi_euler(n)\n",
    "    else:\n",
    "        print(\"Nie poprawnie wpisany argument schema\")\n",
    "        "
   ]
  },
  {
   "cell_type": "markdown",
   "id": "6383bc49-36e9-4e76-9f2c-8b0f0806cd46",
   "metadata": {},
   "source": [
    "d) Przetestuj przygotowane w poprzednich podpunktach funkcje na kilku wybranych przez siebie wartościach argumentów `n` i `schema`."
   ]
  },
  {
   "cell_type": "code",
   "execution_count": 16,
   "id": "e15d2d85-fe90-40de-9255-dea021ef2fc6",
   "metadata": {},
   "outputs": [
    {
     "name": "stdout",
     "output_type": "stream",
     "text": [
      "Wartość funkcji Leibnitza: 3.141092653621038\n",
      "Wartość funkcji Eulera: 3.1406380562059946 \n",
      " 3.1406380562059946\n"
     ]
    }
   ],
   "source": [
    "l = compute_pi_leibniz(1000)\n",
    "e = compute_pi_euler(1000)\n",
    "x = compute_pi(1000, 'Euler')\n",
    "\n",
    "print('Wartość funkcji Leibnitza: {}\\nWartość funkcji Eulera: {} \\n {}'.format(l, e, x))"
   ]
  },
  {
   "cell_type": "markdown",
   "id": "c83a6c82-7e92-43f4-803b-66b0be1981ba",
   "metadata": {},
   "source": [
    "## Zadanie 6"
   ]
  },
  {
   "cell_type": "markdown",
   "id": "6e853070-f20f-4639-b298-7204ffb7e943",
   "metadata": {},
   "source": [
    "Aproksymacja pierwiastka $x$ za pomocą algorytmu bisekcji rozpoczyna się od określenia dolnej i górnej granicy przedziału $[a, b]$, gdzie $a=0$, a $b=max(1, x)$. Następnie sprawdzamy, czy środek wyznaczonego przedziału $d$ aproksymuje wartość pierwiastka $x$ z akceptowalną dokładnością $\\epsilon$. Jeżeli $|d^2 - x| <= \\epsilon$ to przyjmujemy, że $d$ jest akceptowalną aproksymacją pierwiastka $x$. W przeciwnym przypadku aktualizujemy granice przedziału i powtarzamy procedurę. Jeżeli $d^2 > x$ to aktualizujmy górną granicę przedniału $b=d$, a jeżeli $d^2 < x$ to aktualizujmy dolną granicę przedniału $a=d$."
   ]
  },
  {
   "cell_type": "markdown",
   "id": "3d5585e9-e9d3-4d6d-b81b-0b4b74e79cb5",
   "metadata": {},
   "source": [
    "a) Napisz funkcję `bisection_root_search()`, która aproksymuje wartość pierwiastka liczby dodatniej za pomocą metody bisekcji. Funkcja powinna przyjmować dwa argumenty - `x`, który określa wartość liczby oraz `epsilon`, który określa dokładność aproksymacji i przyjmuje domyślnie wartość 0.001."
   ]
  },
  {
   "cell_type": "code",
   "execution_count": 17,
   "id": "ddc55462-220a-4d22-bcb1-9e5b60e22c15",
   "metadata": {},
   "outputs": [],
   "source": [
    "def bisection_root_search(x, epsilon):\n",
    "    a = 0\n",
    "    b = x\n",
    "    d = (a+b) / 2\n",
    "    while abs(d*d - x) >= epsilon:\n",
    "        d = (a+b) / 2\n",
    "        if d*d > x:\n",
    "            b = d\n",
    "        else: \n",
    "            a = d\n",
    "    \n",
    "        \n",
    "    return d"
   ]
  },
  {
   "cell_type": "markdown",
   "id": "a0421a5a-092f-41b3-8a27-aab1fa61d6f1",
   "metadata": {},
   "source": [
    "b) Wykorzystaj funkcję przygotowaną w poprzednim podpunkcie do aproksymacji pierwiastka z 25 i 125. Korzystając z funkcji `print()` i `format()` wyświetl odpowiedź \"Pierwiastek z X wynosi w przybiżeniu Y.\" Podaj aproksymowane wartości pierwiastków z dokładnością do 4 miejsc po przecinku."
   ]
  },
  {
   "cell_type": "code",
   "execution_count": 18,
   "id": "55862cf9-fdc8-4572-90c0-ad96fd07df00",
   "metadata": {},
   "outputs": [
    {
     "name": "stdout",
     "output_type": "stream",
     "text": [
      "Pierwiastek z 25 wynosi w przybiżeniu 4.9999\n",
      "Pierwiastek z 125 wynosi w przybliżeniu 11.1803\n"
     ]
    }
   ],
   "source": [
    "sqrt_25 = bisection_root_search(25, 0.001)\n",
    "sqrt_125 = bisection_root_search(125, 0.00001)\n",
    "\n",
    "print('Pierwiastek z 25 wynosi w przybiżeniu {:.4f}\\nPierwiastek z 125 wynosi w przybliżeniu {:.4f}'.format(sqrt_25, sqrt_125))"
   ]
  },
  {
   "cell_type": "markdown",
   "id": "e21cdb74-8f27-4ccc-81a9-f242d86218f8",
   "metadata": {},
   "source": [
    "## Zadanie 7"
   ]
  },
  {
   "cell_type": "markdown",
   "id": "2972d2cc-a2a5-4f77-94c3-6f4f4e9d7c41",
   "metadata": {},
   "source": [
    "Problem Collatza to nierozstrzygnięty do dziś problem matematyczny.\n",
    "\n",
    "Rozpoczynając od dowolnej dodatniej liczby całkowitej $c_0$ modyfikujemy iteracyjnie jej wartość zgodnie z poniższym wzorem:\n",
    "\n",
    "$$ c_{n+1} = \\begin{cases} \\frac{1}{2} c_n \\text{ jeżeli } c_n \\text{ jest parzysta} \\\\ 3c_n + 1 \\text{ jeżeli } c_n \\text{ jest nieparzysta} \\\\ \\end{cases} $$\n",
    "\n",
    "Przedmiotem problemu jest przypuszczenie, że niezależnie od jakiej liczby wystartujemy, w końcu dojdziemy do liczby 1."
   ]
  },
  {
   "cell_type": "markdown",
   "id": "c684c7ec-5e40-49d5-b7d9-6a6f63376d26",
   "metadata": {},
   "source": [
    "\n",
    "a) Napisz funkcję `collatz()`, która przyjmuje dwa argumenty (`x` oraz `max_steps`) i podaje informację w ilu krokach `x` zbiega do 1 lub informację, że `x` nie zbiega do 1 w `max_steps` krokach."
   ]
  },
  {
   "cell_type": "code",
   "execution_count": 45,
   "id": "7312bece-f499-4903-8590-1bffb142f410",
   "metadata": {},
   "outputs": [],
   "source": [
    "def collatz(x, max_steps):\n",
    "    c = x\n",
    "    for i in range(max_steps):\n",
    "        if c == 1:\n",
    "            print(\"{} zbiega do 1 w max_steps równej {} \".format(x, i))\n",
    "            break\n",
    "        \n",
    "        else:    \n",
    "            if c % 2 == 0:\n",
    "                c = (1/2)*c\n",
    "            else:\n",
    "                c = 3*c+1\n",
    "    return '{} nie zbiega do 1 w {} krokach'.format(x, max_steps)"
   ]
  },
  {
   "cell_type": "markdown",
   "id": "9fae9b1f-6bba-4c41-86b4-b669b9906d3f",
   "metadata": {},
   "source": [
    "b) Przetestuj przygotowaną w poprzednim funkcję na kilku wybranych przez siebie wartościach argumentów `x` i `max_steps`."
   ]
  },
  {
   "cell_type": "code",
   "execution_count": 47,
   "id": "55305f91-a3ae-4006-abfb-b754039f4703",
   "metadata": {},
   "outputs": [
    {
     "name": "stdout",
     "output_type": "stream",
     "text": [
      "3 zbiega do 1 w max_steps równej 7 \n"
     ]
    },
    {
     "data": {
      "text/plain": [
       "'3 nie zbiega do 1 w 20 krokach'"
      ]
     },
     "execution_count": 47,
     "metadata": {},
     "output_type": "execute_result"
    }
   ],
   "source": [
    "x = collatz(3, 20)\n",
    "x"
   ]
  },
  {
   "cell_type": "code",
   "execution_count": null,
   "id": "bea558df",
   "metadata": {},
   "outputs": [],
   "source": []
  }
 ],
 "metadata": {
  "kernelspec": {
   "display_name": "Python 3 (ipykernel)",
   "language": "python",
   "name": "python3"
  },
  "language_info": {
   "codemirror_mode": {
    "name": "ipython",
    "version": 3
   },
   "file_extension": ".py",
   "mimetype": "text/x-python",
   "name": "python",
   "nbconvert_exporter": "python",
   "pygments_lexer": "ipython3",
   "version": "3.11.0"
  }
 },
 "nbformat": 4,
 "nbformat_minor": 5
}
