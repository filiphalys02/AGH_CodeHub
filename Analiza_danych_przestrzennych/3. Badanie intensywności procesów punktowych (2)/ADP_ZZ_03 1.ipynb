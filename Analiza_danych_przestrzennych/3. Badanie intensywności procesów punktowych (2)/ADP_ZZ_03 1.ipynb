{
 "cells": [
  {
   "cell_type": "markdown",
   "id": "8b19ef87",
   "metadata": {
    "deletable": false,
    "editable": false,
    "nbgrader": {
     "cell_type": "markdown",
     "checksum": "a4d572b9cb35f7417343f3db3cd5a898",
     "grade": false,
     "grade_id": "cell-fcd2666579131b77",
     "locked": true,
     "schema_version": 3,
     "solution": false,
     "task": false
    },
    "tags": []
   },
   "source": [
    "# Analiza danych przestrzennych - ćwiczenia laboratoryjne 2022/2023\n",
    "\n",
    "Ten notatnik zalicza się do grupy zestawów zadań, na podstawie których odbywa się zaliczenie ćwiczeń i podlega zwrotowi do oceny w ustalonym na zajęciach terminie.\n",
    "\n",
    "Uwagi ogólne:\n",
    "- Podczas wykonywania zadań należy korzystać wyłącznie z pakietów zaimportowanych na początku notatnika oraz z pakietów wchodzących w skład standardowej biblioteki Pythona, które można zaimportować samodzielnie we wskazanej komórce.\n",
    "- Swoje rozwiązania należy wprowadzać wyłącznie w miejce następujących fragmentów kodu:<br/> ` # YOUR CODE HERE`<br/> ` raise NotImplementedError()`<br/> Nie należy w żaden sposób modyfikować pozostałych fragmentów kodu oraz elementów notatnika, w szczególności dodawać lub usuwać komórek oraz zmieniać nazwy pliku.\n",
    "- Jeżeli zestaw zadań wymaga skorzystania z funkcji przygotowanych w ramach wcześniejszych zestawów zadań należy je umieścić we wskazanej komórce.\n",
    "- Wszystkie wykresy powinny być wykonane w jednolitym, przejrzystym i czytelnym stylu, mieć nadane tytuły, opisane osie oraz odpowiednio dobrany rozmiar, wielkość punktów i grubość linii. Proporcje osi wykresów przedstawiających rozkłady punktów powinny być dobrane tak, aby wykresy odzwierciedlały rzeczywisty rozkład punktów w przestrzeni.\n",
    "- Zadania, które powodują wyświetlenie komunikatu o błędzie przerywającym wykonywanie kodu nie podlegają ocenie.\n",
    "\n",
    "Przed odesłaniem zestawu zadań do oceny proszę uzupełnić komórkę z danymi autorów rozwiązania (`NAME` - nazwa grupy, `COLLABORATORS` - imiona, nazwiska i numery indeksów członków grupy) oraz upewnić się, że notatnik działa zgodnie z oczekiwaniami. W tym celu należy skorzystać z opcji **Restart Kernel and Run All Cells...** dostępnej na górnej belce notatnika pod symbolem $\\blacktriangleright\\blacktriangleright$. "
   ]
  },
  {
   "cell_type": "code",
   "execution_count": 1,
   "id": "399b9a59",
   "metadata": {},
   "outputs": [],
   "source": [
    "NAME = \"\"\n",
    "COLLABORATORS = \"\""
   ]
  },
  {
   "cell_type": "markdown",
   "id": "3102e823",
   "metadata": {
    "deletable": false,
    "editable": false,
    "nbgrader": {
     "cell_type": "markdown",
     "checksum": "eddc8826810e4a6f7bf68319da334bd9",
     "grade": false,
     "grade_id": "cell-109006d425e5cf83",
     "locked": true,
     "schema_version": 3,
     "solution": false,
     "task": false
    },
    "tags": []
   },
   "source": [
    "---"
   ]
  },
  {
   "cell_type": "markdown",
   "id": "101e2bd7",
   "metadata": {
    "deletable": false,
    "editable": false,
    "nbgrader": {
     "cell_type": "markdown",
     "checksum": "0b043234b4053b1ed7c51d086e070d9f",
     "grade": false,
     "grade_id": "cell-1f33a09e5146ecbe",
     "locked": true,
     "schema_version": 3,
     "solution": false,
     "task": false
    },
    "tags": []
   },
   "source": [
    "## Zestaw zadań 3: Badanie intensywności procesów punktowych (część 2)"
   ]
  },
  {
   "cell_type": "code",
   "execution_count": 1,
   "id": "792d588b",
   "metadata": {
    "deletable": false,
    "editable": false,
    "nbgrader": {
     "cell_type": "code",
     "checksum": "31642740d59cb98672cfd1ca55108013",
     "grade": false,
     "grade_id": "cell-ecd0d56207650fc3",
     "locked": true,
     "schema_version": 3,
     "solution": false,
     "task": false
    },
    "tags": []
   },
   "outputs": [],
   "source": [
    "import numpy as np\n",
    "import pandas as pd\n",
    "import scipy as sp\n",
    "import matplotlib as mpl\n",
    "import matplotlib.pyplot as plt\n",
    "import seaborn as sns"
   ]
  },
  {
   "cell_type": "code",
   "execution_count": 2,
   "id": "843d1696",
   "metadata": {
    "tags": []
   },
   "outputs": [],
   "source": [
    "# Miejsce do importu pakietów wchodzących w skład standardowej biblioteki Pythona oraz ustawienie opcji wykorzystywanych pakietów\n",
    "sns.set() \n",
    "sns.set_theme(style=\"whitegrid\")"
   ]
  },
  {
   "cell_type": "code",
   "execution_count": 3,
   "id": "cdf3d385",
   "metadata": {
    "deletable": false,
    "nbgrader": {
     "cell_type": "code",
     "checksum": "a483085d48433d55febe96f376d34572",
     "grade": true,
     "grade_id": "cell-885489b562915779",
     "locked": false,
     "points": 0,
     "schema_version": 3,
     "solution": true,
     "task": false
    },
    "tags": []
   },
   "outputs": [],
   "source": [
    "# Miejsce do wklejenie funkcji ze wcześniejszych zestawów zadań\n",
    "# YOUR CODE HERE\n",
    "#raise NotImplementedError()"
   ]
  },
  {
   "cell_type": "markdown",
   "id": "1838f101",
   "metadata": {
    "deletable": false,
    "editable": false,
    "nbgrader": {
     "cell_type": "markdown",
     "checksum": "8a36d83b72601f5d199de8f7f6f9c22f",
     "grade": false,
     "grade_id": "cell-f2afbf273f0dc494",
     "locked": true,
     "schema_version": 3,
     "solution": false,
     "task": false
    },
    "tags": []
   },
   "source": [
    "### Przygotowanie danych\n",
    "Wczytaj dane zawarte w plikach CSV załączonych do zestawu zadań."
   ]
  },
  {
   "cell_type": "code",
   "execution_count": 4,
   "id": "7f3b2726",
   "metadata": {
    "deletable": false,
    "nbgrader": {
     "cell_type": "code",
     "checksum": "2ca678f358d65294068eb38894d14931",
     "grade": true,
     "grade_id": "cell-ade1720260927626",
     "locked": false,
     "points": 0,
     "schema_version": 3,
     "solution": true,
     "task": false
    },
    "tags": []
   },
   "outputs": [],
   "source": [
    "# YOUR CODE HERE\n",
    "punkty1 = pd.read_csv('points_1.csv')\n",
    "punkty2 = pd.read_csv('points_2.csv')\n",
    "punkty3 = pd.read_csv('points_3.csv')\n",
    "#raise NotImplementedError()"
   ]
  },
  {
   "cell_type": "markdown",
   "id": "7cbd40b2",
   "metadata": {
    "deletable": false,
    "editable": false,
    "nbgrader": {
     "cell_type": "markdown",
     "checksum": "743eda14608e95a5584ec64d8ebe593a",
     "grade": false,
     "grade_id": "cell-cf8e2b1190d2c9a6",
     "locked": true,
     "schema_version": 3,
     "solution": false,
     "task": false
    },
    "tags": []
   },
   "source": [
    "### Zadanie 1: Test chi-kwadrat Pearsona (30 pkt)\n",
    "\n",
    "Przygotuj funkcję `pearsons_chi2_test()`, która będzie przeprowadzać test istotności chi-kwadrat Pearsona i wyświetlać jego wynik zgodnie z pokazanym poniżej schematem. Następnie wykorzystaj przygotowanią funkcję do sprawdzenia, czy rozkłady punktowe zaimportowane z plików points_1.csv i points_2.csv są jednorodnymi rozkładami Poissona o intensywności równej 20. W obliczeniach przyjmij $\\alpha=0.05$.\n",
    "\n",
    "Rozwiązanie zadania wymaga dodatkowo przygotowania funkcji pomocniczych `distribution_table()` i `poisson_distribution_table()`, które będą przygotowywać szeregi rodzielcze testowanego rozkładu oraz teoretycznego rozkładu Poissona.\n",
    "\n",
    "Algorytm postępowania:\n",
    "- Formułujemy hipotezę zerową i hipotezę alternatywną H1: <br/>\n",
    "H0: Testowana zmienna ma przyjęty rozkład teoretyczny <br/>\n",
    "H1: Testowana zmienna nie ma przyjętego rozkładu teoretycznego\n",
    "- Obliczamy wartość statystyki testowej $\\chi^2$: <br/>\n",
    "$\\chi^2 = \\sum_{i=1}^{k} \\frac{(n_i-n p_i)^2}{np_i}$ <br/>\n",
    "gdzie: $k$ - liczba wariantów badanej cechy, $n_i$ - liczebność i-tego wariantu testowanego rozkładu, $n$ - liczba punktów testowanego rozkładu, $p_i$ - prawdopodobieństwo  i-tego wariantu rozkładu teoretycznego.\n",
    "- Z rozkładu chi-kwadrat wyznaczamy obszar krytyczny testu istotności $\\chi^2_{\\alpha}$: <br/>\n",
    "$\\chi^2_{\\alpha} = \\chi^2_{1-\\alpha, k-s-1}$ <br/>\n",
    "gdzie:  $\\alpha$ - poziom istotności, $k$ - liczba wariantów rozkładu, $s$ - liczba nieznanych parametrów rozkładu.\n",
    "- Podejmujemy decyzję weryfikującą: <br/>\n",
    "$\\chi^2 >= \\chi^2_{\\alpha}$ - Odrzucenie H0 na rzecz H1 na poziomie istotności alpha = X <br/>\n",
    "$\\chi^2 < \\chi^2_{\\alpha}$ - Wynik testu istotności nie daje podstaw do odrzucenia H0 na rzecz H1 na poziomie istotności alpha = X\n",
    "\n",
    "Przykładowe wyniki pracy funkcji `pearsons_chi2_test()`: <br/>\n",
    "<br/>\n",
    "`Test chi-kwadrat Pearsona` <br/>\n",
    "`H0: Testowana zmienna ma przyjęty rozkład teoretyczny` <br/>\n",
    "`H1: Testowana zmienna nie ma przyjętego rozkładu teoretycznego` <br/>\n",
    "`chi2 = 23.307 chi2_alpha = 18.078`<br/>\n",
    "`chi2 >= chi2_alpha` <br/>\n",
    "`Odrzucenie H0 na rzecz H1 na poziomie istotności alpha = 0.05` <br/>\n",
    "<br/>\n",
    "`Test chi-kwadrat Pearsona` <br/>\n",
    "`H0: Testowana zmienna ma przyjęty rozkład teoretyczny` <br/>\n",
    "`H1: Testowana zmienna nie ma przyjętego rozkładu teoretycznego` <br/>\n",
    "`chi2 = 19.521 chi2_alpha = 21.129`<br/>\n",
    "`chi2 < chi2_alpha` <br/>\n",
    "`Wynik testu istotności nie daje podstaw do odrzucenia H0 na rzecz H1 na poziomie istotności alpha = 0.05` <br/>"
   ]
  },
  {
   "cell_type": "markdown",
   "id": "d68a0464",
   "metadata": {
    "deletable": false,
    "editable": false,
    "nbgrader": {
     "cell_type": "markdown",
     "checksum": "2af9f2874b81554258b2ac57538e46c9",
     "grade": false,
     "grade_id": "cell-3bd38731291da2b7",
     "locked": true,
     "schema_version": 3,
     "solution": false,
     "task": false
    },
    "tags": []
   },
   "source": [
    "#### a) Przygotowanie funkcji"
   ]
  },
  {
   "cell_type": "code",
   "execution_count": 10,
   "id": "684f8d2d",
   "metadata": {
    "deletable": false,
    "nbgrader": {
     "cell_type": "code",
     "checksum": "015dda85cd36cde13e47973e3dac329e",
     "grade": true,
     "grade_id": "cell-357a2ee8390da86b",
     "locked": false,
     "points": 20,
     "schema_version": 3,
     "solution": true,
     "task": false
    },
    "tags": []
   },
   "outputs": [],
   "source": [
    "def distribution_table(bin_counts):\n",
    "    \"\"\"\n",
    "    Parameters\n",
    "    -------\n",
    "    bin_counts: array\n",
    "        Macierz 2D z liczbą punków przypisanych do każdego z podobszarów.\n",
    "\n",
    "    Returns\n",
    "    -------\n",
    "    table: DataFrame\n",
    "        Tablica zawierająca 2 kolumny:\n",
    "        - \"K\", która zawiera wszystkie wartości całkowite z zakresu od minimalnej do maksymalnej liczby zliczeń w obrębie podobszarów,\n",
    "        - \"N(K)\", która zawiera liczby podobszarów, którym zostały przypisane poszczególne liczby punktów.\n",
    "    \"\"\"    \n",
    "    # YOUR CODE HERE\n",
    "    bin_counts_min = int(np.min(bin_counts))\n",
    "    bin_counts_max = int(np.max(bin_counts))\n",
    "    \n",
    "    k = np.linspace(bin_counts_min, bin_counts_max, bin_counts_max - bin_counts_min+1)\n",
    "    nk = list()\n",
    "    for i in k:\n",
    "        nk.append(np.sum(bin_counts==i))\n",
    "    table = pd.DataFrame()\n",
    "    table['K'] = k\n",
    "    table['N(K)'] = nk\n",
    "    return table\n",
    "    #raise NotImplementedError()\n",
    "\n",
    "def poisson_distribution_table(k, mu):\n",
    "    \"\"\"\n",
    "    Parameters\n",
    "    -------\n",
    "    k: array\n",
    "        Macierz 1D z wariantami badanej cechy, dla którym ma zostać wyliczone prawdopodobieństwo.\n",
    "    mu: int\n",
    "        Wartość oczekiwana rozkładu Poissona.\n",
    "\n",
    "    Returns\n",
    "    -------\n",
    "    table: DataFrame\n",
    "        Tablica zawierająca 2 kolumny:\n",
    "        - \"K\", która zawiera warianty badanej cechy,\n",
    "        - \"P(K)\", która zawiera wartości prawdopodobieństw rozkładu Poissona wyliczone dla wartości oczekiwanej mu\n",
    "        oraz poszczególnych wariantów badanej cechy znormalizowane do sumy wartości równej 1.\n",
    "    \"\"\"  \n",
    "    # YOUR CODE HERE\n",
    "    pk = list()\n",
    "    for i in range(len(k)):\n",
    "        pk.append(sp.stats.poisson.pmf(k[i], mu))\n",
    "    pk = pk/sum(pk)\n",
    "    table = pd.DataFrame()\n",
    "    table['K'] = k\n",
    "    table['P(K)'] = pk\n",
    "    return table\n",
    "    #raise NotImplementedError()\n",
    "\n",
    "def pearsons_chi2_test(tested_distribution, theoretical_distribution, alpha, ddof):\n",
    "    \"\"\"\n",
    "    Parameters\n",
    "    -------\n",
    "    tested_distribution: DataFrame\n",
    "        Tablica opisująca testowany rozkład i zawierająca 2 kolumny:\n",
    "        - \"K\", która zawiera warianty badanej cechy, wartości muszą być identycznej jak kolumna \"K\" zmiennej lokalnej theoretical_distribution,\n",
    "        - \"N(K)\", która zawiera liczebności poszczególnych wariantów badanej cechy.\n",
    "\n",
    "    theoretical_distribution: DataFrame\n",
    "        Tablica opisująca rozkład teoretyczny i zawierająca 2 kolumny:\n",
    "        - \"K\", która zawiera warianty badanej cechy, wartości muszą być identycznej jak kolumna \"K\" zmiennej lokalnej tested_distribution,\n",
    "        - \"P(K)\", która zawiera prawdopodobieństwa poszczególnych wariantów badanej cechy. Wartości z tej kolumny muszą sumować się do 1.\n",
    "    \n",
    "    alpha: float\n",
    "        Wartość z zakresu [0,1] określająca poziom istotności.\n",
    "    \n",
    "    ddof: int\n",
    "        Liczba nieujemna określająca liczbę nieznanych parametrów rozkładu.\n",
    "    \"\"\"\n",
    "    \n",
    "    # YOUR CODE HERE\n",
    "    n = sum(tested_distribution[\"N(K)\"])\n",
    "    chi_2 = ((tested_distribution[\"N(K)\"]-n*theoretical_distribution[\"P(K)\"])**2)/(n*theoretical_distribution[\"P(K)\"])\n",
    "    sum_chi_2 = sum(chi_2)\n",
    "    chi_2a=sp.stats.chi2.ppf(1-alpha, len(tested_distribution[\"K\"]-1-ddof))\n",
    "    print('Test chi-kwadrat Pearsona')\n",
    "    print('H0: Testowana zmienna ma przyjęty rozkład teoretyczny')\n",
    "    print('H1: Testowana zmienna nie ma przyjętego rozkładu teoretycznego')\n",
    "    print('chi2 = {}'.format(sum_chi_2))\n",
    "    print('chi2_alpha = {}'.format(chi_2a))\n",
    "    \n",
    "    if sum_chi_2 < chi_2a:\n",
    "        print('chi2 < chi2_alpha')\n",
    "        print('Wynik testu istotności nie daje podstaw do odrzucenia H0 na rzecz H1 na poziomie istotności alpha = {}'.format(alpha))\n",
    "    else:\n",
    "        print('chi2 >= chi2_alpha')\n",
    "        print('Odrzucenie H0 na rzecz H1 na poziomie istotności {}'.format(alpha))\n",
    "    #raise NotImplementedError()"
   ]
  },
  {
   "cell_type": "markdown",
   "id": "2ccac03e",
   "metadata": {
    "deletable": false,
    "editable": false,
    "nbgrader": {
     "cell_type": "markdown",
     "checksum": "c87021b1e1c33db87458c8245bac7972",
     "grade": false,
     "grade_id": "cell-8faafe8175d68f1e",
     "locked": true,
     "schema_version": 3,
     "solution": false,
     "task": false
    },
    "tags": []
   },
   "source": [
    "#### b) Weryfikacja hipotezy o rozkładzie 1"
   ]
  },
  {
   "cell_type": "code",
   "execution_count": 11,
   "id": "30e7d7d3",
   "metadata": {
    "deletable": false,
    "nbgrader": {
     "cell_type": "code",
     "checksum": "050b275460b26403b19391a8d71f095d",
     "grade": true,
     "grade_id": "cell-10530e4bdc225d2e",
     "locked": false,
     "points": 5,
     "schema_version": 3,
     "solution": true,
     "task": false
    },
    "tags": []
   },
   "outputs": [
    {
     "name": "stdout",
     "output_type": "stream",
     "text": [
      "Test chi-kwadrat Pearsona\n",
      "H0: Testowana zmienna ma przyjęty rozkład teoretyczny\n",
      "H1: Testowana zmienna nie ma przyjętego rozkładu teoretycznego\n",
      "chi2 = 17.77538534909442\n",
      "chi2_alpha = 23.684791304840576\n",
      "chi2 < chi2_alpha\n",
      "Wynik testu istotności nie daje podstaw do odrzucenia H0 na rzecz H1 na poziomie istotności alpha = 0.05\n"
     ]
    }
   ],
   "source": [
    "# YOUR CODE HERE\n",
    "a = np.histogram2d(punkty1['X'], punkty1['Y'], bins = [40,20], range=[[0,20], [0,10]])[0]\n",
    "b = distribution_table(a)\n",
    "c = poisson_distribution_table(b['K'], 5)\n",
    "d = pearsons_chi2_test(b, c, 0.05, 0)\n",
    "#raise NotImplementedError()"
   ]
  },
  {
   "cell_type": "markdown",
   "id": "c97a4405",
   "metadata": {
    "deletable": false,
    "editable": false,
    "nbgrader": {
     "cell_type": "markdown",
     "checksum": "e8e2a2cbf02e7f2ae96e022496bf73c7",
     "grade": false,
     "grade_id": "cell-6278fccf5c8254be",
     "locked": true,
     "schema_version": 3,
     "solution": false,
     "task": false
    },
    "tags": []
   },
   "source": [
    "#### c) Weryfikacja hipotezy o rozkładzie 2"
   ]
  },
  {
   "cell_type": "code",
   "execution_count": 12,
   "id": "43537534",
   "metadata": {
    "deletable": false,
    "nbgrader": {
     "cell_type": "code",
     "checksum": "a38294ac11132e0606cc55adc9fb4537",
     "grade": true,
     "grade_id": "cell-6c54b48d31e662da",
     "locked": false,
     "points": 5,
     "schema_version": 3,
     "solution": true,
     "task": false
    },
    "tags": []
   },
   "outputs": [
    {
     "name": "stdout",
     "output_type": "stream",
     "text": [
      "Test chi-kwadrat Pearsona\n",
      "H0: Testowana zmienna ma przyjęty rozkład teoretyczny\n",
      "H1: Testowana zmienna nie ma przyjętego rozkładu teoretycznego\n",
      "chi2 = 86.27901230036939\n",
      "chi2_alpha = 23.684791304840576\n",
      "chi2 >= chi2_alpha\n",
      "Odrzucenie H0 na rzecz H1 na poziomie istotności 0.05\n"
     ]
    }
   ],
   "source": [
    "# YOUR CODE HERE\n",
    "a = np.histogram2d(punkty2['X'], punkty2['Y'], bins = [40,20], range=[[0,20], [0,10]])[0]\n",
    "b = distribution_table(a)\n",
    "c = poisson_distribution_table(b['K'], 5)\n",
    "d = pearsons_chi2_test(b, c, 0.05, 0)\n",
    "#raise NotImplementedError()"
   ]
  },
  {
   "cell_type": "markdown",
   "id": "84b21424",
   "metadata": {
    "deletable": false,
    "editable": false,
    "nbgrader": {
     "cell_type": "markdown",
     "checksum": "54173c3c63922e471c1eed46a21f9b71",
     "grade": false,
     "grade_id": "cell-46f87024c5253ba3",
     "locked": true,
     "schema_version": 3,
     "solution": false,
     "task": false
    },
    "tags": []
   },
   "source": [
    "### Zadanie 2: Test Kołmogorowa - Smirnowa (20 pkt)\n",
    "\n",
    "Przygotuj funkcję `kolmogorow_smirnow_test()`, która będzie przeprowadzać test istotności Kołmogorowa-Smirnowa i wyświetlać jego wynik zgodnie z pokazanym poniżej schematem. Następnie wykorzystaj przygotowanią funkcję do sprawdzenia, czy rozkład punktowy zaimportowany z pliku points_3.csv jest jednorodnym rozkładem Poissona. W obliczeniach przyjmij poziom istotności $\\alpha=0.05$.\n",
    "\n",
    "Algorytm postępowania:\n",
    "- Formułujemy hipotezę zerową i hipotezę alternatywną H1: <br/>\n",
    "H0: Testowana zmienna ma przyjęty rozkład teoretyczny <br/>\n",
    "H1: Testowana zmienna nie ma przyjętego rozkładu teoretycznego\n",
    "- Obliczamy wartość statystyki testowej $\\lambda$: <br/>\n",
    "$D = \\sup_{x}(|F_t - F_0|)$ <br/>\n",
    "$\\lambda = D\\sqrt{n}$ <br/>\n",
    "gdzie: $F_t$ - dystrybuanta testowanego rozkładu,  $F_0$ - dystrybuanta rozkładu teoretycznego, $n$ - liczba punktów.\n",
    "- Z rozkładu Kołomogorowa wyznaczamy obszar krytyczny testu istotności $\\lambda_{\\alpha}$: <br/>\n",
    "$\\lambda_{\\alpha} = \\lambda_{1-\\alpha}$ <br/>\n",
    "gdzie:  $\\alpha$ - poziom istotności.\n",
    "- Podejmujemy decyzję weryfikującą: <br/>\n",
    "$\\lambda >= \\lambda_{\\alpha}$ - Odrzucenie H0 na rzecz H1 na poziomie istotności alpha = X <br/>\n",
    "$\\lambda < \\lambda_{\\alpha}$ - Wynik testu istotności nie daje podstaw do odrzucenia H0 na rzecz H1 na poziomie istotności alpha = X\n",
    "\n",
    "Uwaga! Test należy przeprowadzić niezależnie dla współrzędnej X i Y. Decyzja jest podejmowana na podstawie wyników obu testów.\n",
    "\n",
    "\n",
    "Przykładowe wyniki pracy funkcji `kolmogorow_smirnow_test()`: <br/>\n",
    "<br/>\n",
    "`Test Kołmogorowa-Smirnowa dla współrzędnej X` <br/>\n",
    "`H0: Testowana zmienna ma przyjęty rozkład teoretyczny` <br/>\n",
    "`H1: Testowana zmienna nie ma przyjętego rozkładu teoretycznego` <br/>\n",
    "`lambda = 2.036  lambda_alpha = 1.255`<br/>\n",
    "`lambda >= lambda_alpha` <br/>\n",
    "`Odrzucenie H0 na rzecz H1 na poziomie istotności alpha = 0.05` <br/>\n",
    "<br/>\n",
    "`Test Kołmogorowa-Smirnowa dla współrzędnej Y` <br/>\n",
    "`H0: Testowana zmienna ma przyjęty rozkład teoretyczny` <br/>\n",
    "`H1: Testowana zmienna nie ma przyjętego rozkładu teoretycznego` <br/>\n",
    "`lambda = 1.136  lambda_alpha = 1.748` <br/>\n",
    "`lambda < D_alpha` <br/>\n",
    "`Wynik testu istotności nie daje podstaw do odrzucenia H0 na rzecz H1 na poziomie istotności alpha = 0.05`"
   ]
  },
  {
   "cell_type": "markdown",
   "id": "214c3c96",
   "metadata": {
    "deletable": false,
    "editable": false,
    "nbgrader": {
     "cell_type": "markdown",
     "checksum": "57120b85d632c43b08cf4d21fca7d8d9",
     "grade": false,
     "grade_id": "cell-b572214484a8c02e",
     "locked": true,
     "schema_version": 3,
     "solution": false,
     "task": false
    },
    "tags": []
   },
   "source": [
    "#### a) Przygotowanie funkcji"
   ]
  },
  {
   "cell_type": "code",
   "execution_count": 13,
   "id": "2715319c",
   "metadata": {
    "deletable": false,
    "nbgrader": {
     "cell_type": "code",
     "checksum": "a0f57a4fa3ac67a55876d97fbdfb726b",
     "grade": true,
     "grade_id": "cell-2f066333ab586e29",
     "locked": false,
     "points": 10,
     "schema_version": 3,
     "solution": true,
     "task": false
    },
    "tags": []
   },
   "outputs": [],
   "source": [
    "def kolmogorow_smirnow_test(tested_points, theoretical_points, alpha, ddof):\n",
    "    \"\"\"\n",
    "    Parameters\n",
    "    -------\n",
    "    tested_points: DataFrame\n",
    "        Tablica zawierająca kolumnę ze współrzędnymi punktów testowanego rozkładu opisaną jako \"X\" lub \"Y\".\n",
    "\n",
    "    theoretical_points: DataFrame\n",
    "        Tablica zawierająca kolumnę ze współrzędnymi punktów toeretycznego rozkładu opisaną jako \"X\" lub \"Y\".\n",
    "    \n",
    "    alpha: float\n",
    "        Wartość z zakresu [0,1] określająca poziom istotności.\n",
    "    \n",
    "    ddof: int\n",
    "        Liczba nieujemna określająca liczbę nieznanych parametrów rozkładu.\n",
    "    \"\"\"\n",
    "    # YOUR CODE HERE\n",
    "    D,d = sp.stats.kstest(tested_points,theoretical_points)\n",
    "    #print(D)\n",
    "    lmbda = D*np.sqrt(len(tested_points))\n",
    "    #print(lmbda)\n",
    "    lmbda_alpha = sp.stats.kstwobign.ppf(1-alpha)\n",
    "    #print(lmbda_alpha)\n",
    "    \n",
    "    print('Test Kołmogorowa-Smirnowa dla współrzędnej {}'.format(tested_points.name))\n",
    "    print('H0: Testowana zmienna ma przyjęty rozkład teoretyczny')\n",
    "    print('H1: Testowana zmienna nie ma przyjętego rozkładu teoretycznego')\n",
    "    print('lambda = {}'.format(lmbda))\n",
    "    print('lambda_alpha = {}'.format(lmbda_alpha))\n",
    "    \n",
    "    if lmbda < lmbda_alpha:\n",
    "        print('lmbda < lmbda_alpha')\n",
    "        print('Wynik testu istotności nie daje podstaw do odrzucenia H0 na rzecz H1 na poziomie istotności alpha = {}'.format(alpha))\n",
    "    else:\n",
    "        print('lmbda >= lmbda_alpha')\n",
    "        print('Odrzucenie H0 na rzecz H1 na poziomie istotności {}'.format(alpha))\n",
    "    \n",
    "    #raise NotImplementedError()"
   ]
  },
  {
   "cell_type": "markdown",
   "id": "8e3b9f2e",
   "metadata": {
    "deletable": false,
    "editable": false,
    "nbgrader": {
     "cell_type": "markdown",
     "checksum": "c1cb5d14963e6cd5d55b13fe85196de9",
     "grade": false,
     "grade_id": "cell-3912a59c00ac417b",
     "locked": true,
     "schema_version": 3,
     "solution": false,
     "task": false
    },
    "tags": []
   },
   "source": [
    "#### b) Weryfikacja hipotezy o rozkładzie 3"
   ]
  },
  {
   "cell_type": "code",
   "execution_count": 14,
   "id": "a0f3d4e3",
   "metadata": {
    "deletable": false,
    "nbgrader": {
     "cell_type": "code",
     "checksum": "c51fd2090383864238854567c520a1af",
     "grade": true,
     "grade_id": "cell-a815b45ab15cc87c",
     "locked": false,
     "points": 10,
     "schema_version": 3,
     "solution": true,
     "task": false
    },
    "tags": []
   },
   "outputs": [
    {
     "name": "stdout",
     "output_type": "stream",
     "text": [
      "Test Kołmogorowa-Smirnowa dla współrzędnej X\n",
      "H0: Testowana zmienna ma przyjęty rozkład teoretyczny\n",
      "H1: Testowana zmienna nie ma przyjętego rozkładu teoretycznego\n",
      "lambda = 2.174766203572468\n",
      "lambda_alpha = 1.3580986393225505\n",
      "lmbda >= lmbda_alpha\n",
      "Odrzucenie H0 na rzecz H1 na poziomie istotności 0.05\n",
      "Test Kołmogorowa-Smirnowa dla współrzędnej Y\n",
      "H0: Testowana zmienna ma przyjęty rozkład teoretyczny\n",
      "H1: Testowana zmienna nie ma przyjętego rozkładu teoretycznego\n",
      "lambda = 0.6223128363866989\n",
      "lambda_alpha = 1.3580986393225505\n",
      "lmbda < lmbda_alpha\n",
      "Wynik testu istotności nie daje podstaw do odrzucenia H0 na rzecz H1 na poziomie istotności alpha = 0.05\n"
     ]
    }
   ],
   "source": [
    "# YOUR CODE HERE\n",
    "dysx = np.linspace(0, 20,1000)\n",
    "dysy = np.linspace(0, 10,1000)\n",
    "kolmogorow_smirnow_test(punkty3['X'], dysx , 0.05, 0)\n",
    "kolmogorow_smirnow_test(punkty3['Y'], dysy , 0.05, 0)\n",
    "#raise NotImplementedError()"
   ]
  },
  {
   "cell_type": "code",
   "execution_count": null,
   "id": "8ccd48a5",
   "metadata": {},
   "outputs": [],
   "source": []
  },
  {
   "cell_type": "code",
   "execution_count": null,
   "id": "c6c4cb07",
   "metadata": {},
   "outputs": [],
   "source": []
  }
 ],
 "metadata": {
  "kernelspec": {
   "display_name": "Python 3 (ipykernel)",
   "language": "python",
   "name": "python3"
  },
  "language_info": {
   "codemirror_mode": {
    "name": "ipython",
    "version": 3
   },
   "file_extension": ".py",
   "mimetype": "text/x-python",
   "name": "python",
   "nbconvert_exporter": "python",
   "pygments_lexer": "ipython3",
   "version": "3.11.0"
  }
 },
 "nbformat": 4,
 "nbformat_minor": 5
}
